{
 "cells": [
  {
   "cell_type": "code",
   "execution_count": 1,
   "metadata": {},
   "outputs": [
    {
     "name": "stdout",
     "output_type": "stream",
     "text": [
      "Enter Math Marks : 60\n",
      "Enter Urdu Marks : 44\n",
      "Enter Science Marks : 55\n",
      "Enter SST Marks : 25\n",
      "Enter Computer Marks : 44\n",
      "Total Marks Are : 500\n",
      "You Gained 500/ 228\n",
      "Percentage :  45.6 %\n",
      "D grade \n"
     ]
    }
   ],
   "source": [
    "math=int(input(\"Enter Math Marks : \"))\n",
    "urdu=int(input(\"Enter Urdu Marks : \"))\n",
    "sci=int(input(\"Enter Science Marks : \"))\n",
    "sst=int(input(\"Enter SST Marks : \"))\n",
    "comp=int(input(\"Enter Computer Marks : \"))\n",
    "total=int(math+urdu+sci+sst+comp)\n",
    "print(\"Total Marks Are : 500\\nYou Gained 500/\",total)\n",
    "\n",
    "per=float((total/500)*100)\n",
    "print(\"Percentage : \",per,\"%\")\n",
    "if per >= 80 and per <= 100:\n",
    "    print(\"A+ Grade \")\n",
    "elif per >= 70 and per <= 80:\n",
    "    print(\"A grade \")\n",
    "elif per >= 60 and per <= 70:\n",
    "    print(\"B grade \")  \n",
    "elif per >= 50 and per <= 60:\n",
    "    print(\"C grade \")\n",
    "elif per >= 40 and per <= 50:\n",
    "    print(\"D grade \")\n",
    "elif per >= 40 and per <= 50:\n",
    "    print(\"E grade \")\n",
    "elif per >= 0 and per <= 32:\n",
    "    print(\"F grade \")\n",
    "else:    \n",
    "    print(\"Invalid\")"
   ]
  },
  {
   "cell_type": "code",
   "execution_count": null,
   "metadata": {},
   "outputs": [],
   "source": []
  },
  {
   "cell_type": "code",
   "execution_count": null,
   "metadata": {},
   "outputs": [],
   "source": []
  },
  {
   "cell_type": "code",
   "execution_count": null,
   "metadata": {},
   "outputs": [],
   "source": []
  },
  {
   "cell_type": "code",
   "execution_count": null,
   "metadata": {},
   "outputs": [],
   "source": []
  }
 ],
 "metadata": {
  "kernelspec": {
   "display_name": "Python 3",
   "language": "python",
   "name": "python3"
  },
  "language_info": {
   "codemirror_mode": {
    "name": "ipython",
    "version": 3
   },
   "file_extension": ".py",
   "mimetype": "text/x-python",
   "name": "python",
   "nbconvert_exporter": "python",
   "pygments_lexer": "ipython3",
   "version": "3.7.4"
  }
 },
 "nbformat": 4,
 "nbformat_minor": 2
}
